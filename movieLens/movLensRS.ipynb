{
 "cells": [
  {
   "cell_type": "markdown",
   "metadata": {},
   "source": [
    "# movielens - Recommender Engine "
   ]
  },
  {
   "cell_type": "code",
   "execution_count": 1,
   "metadata": {},
   "outputs": [],
   "source": [
    "# from flask import Flask, request, redirect\n",
    "# import pymysqlimport json\n",
    "import numpy as np\n",
    "import ast\n",
    "import os\n"
   ]
  },
  {
   "cell_type": "markdown",
   "metadata": {},
   "source": [
    "# collaborative filter "
   ]
  },
  {
   "cell_type": "code",
   "execution_count": null,
   "metadata": {},
   "outputs": [],
   "source": []
  },
  {
   "cell_type": "code",
   "execution_count": null,
   "metadata": {},
   "outputs": [],
   "source": []
  },
  {
   "cell_type": "code",
   "execution_count": null,
   "metadata": {},
   "outputs": [],
   "source": []
  },
  {
   "cell_type": "code",
   "execution_count": null,
   "metadata": {},
   "outputs": [],
   "source": []
  },
  {
   "cell_type": "code",
   "execution_count": null,
   "metadata": {},
   "outputs": [],
   "source": []
  },
  {
   "cell_type": "markdown",
   "metadata": {
    "heading_collapsed": true
   },
   "source": [
    "# tests requests: "
   ]
  },
  {
   "cell_type": "code",
   "execution_count": 2,
   "metadata": {
    "hidden": true
   },
   "outputs": [],
   "source": [
    "import requests\n",
    "import json\n",
    "# Getting genres\n",
    "def get_genres():\n",
    "    a = requests.get(url=\"http://127.0.0.1:5000/genres\")\n",
    "    a = json.loads(a.text)\n",
    "    for i in a[\"Genres\"]:\n",
    "        print(i)\n",
    "\n",
    "# Getting movies in a particular genre\n",
    "def get_gen(genre):\n",
    "    a = requests.get(url=\"http://127.0.0.1:5000/movies?genre=comedy&limit=50\")\n",
    "    a = json.loads(a.text)\n",
    "    for i in a[\"Movies\"]:\n",
    "        print(i[\"Title\"])\n",
    "    \n",
    "# Sending rated movies for recommendations\n",
    "def get_recomendation(p_data):\n",
    "    head = {\"Content-Type\" : \"application/json\"}\n",
    "    data = {\"12\" : 2, \"15\" : 3, \"12\" : 4}\n",
    "    a = requests.post(url=\"http://127.0.0.1:5000/recommend\", json=data)\n",
    "    a = json.loads(a.text)\n",
    "    for i in a[\"Recommendations\"]:\n",
    "        print(\"ID: \" + str(i[\"ID\"]))\n",
    "        print(\"Title: \" + i[\"Title\"])\n",
    "        print(\"Year: \" + i[\"Year\"])\n",
    "        print(\"Genres: \")\n",
    "        for j in i[\"Genres\"]:\n",
    "            print(\"\\t\" + j)\n",
    "        print(\"\\n\")\n"
   ]
  },
  {
   "cell_type": "code",
   "execution_count": null,
   "metadata": {
    "hidden": true
   },
   "outputs": [],
   "source": []
  },
  {
   "cell_type": "markdown",
   "metadata": {},
   "source": [
    "# other"
   ]
  },
  {
   "cell_type": "code",
   "execution_count": null,
   "metadata": {},
   "outputs": [],
   "source": []
  }
 ],
 "metadata": {
  "kernelspec": {
   "display_name": "Python 3",
   "language": "python",
   "name": "python3"
  },
  "language_info": {
   "codemirror_mode": {
    "name": "ipython",
    "version": 3
   },
   "file_extension": ".py",
   "mimetype": "text/x-python",
   "name": "python",
   "nbconvert_exporter": "python",
   "pygments_lexer": "ipython3",
   "version": "3.5.2"
  }
 },
 "nbformat": 4,
 "nbformat_minor": 2
}
