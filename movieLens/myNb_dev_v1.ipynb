{
 "cells": [
  {
   "cell_type": "markdown",
   "metadata": {},
   "source": [
    "\n",
    "# TF-recomm\n",
    "\n",
    "![Pic1](./graph_svd.png)\n",
    "\n",
    "users.dat_ => UserID::Gender::Age::Occupation::Zip-code<br>\n",
    "movies.dat  => MovieID::Title::Genres<br>\n",
    "ratings.dat => UserID::MovieID::Rating::Timestamp<br>"
   ]
  },
  {
   "cell_type": "markdown",
   "metadata": {},
   "source": [
    "# imports"
   ]
  },
  {
   "cell_type": "code",
   "execution_count": 1,
   "metadata": {},
   "outputs": [],
   "source": [
    "import time\n",
    "from collections import deque\n",
    "import socket\n",
    "import sys\n",
    "import numpy as np\n",
    "import tensorflow as tf\n",
    "from six import next\n",
    "from tensorflow.core.framework import summary_pb2\n",
    "from tensorflow.python.tools.inspect_checkpoint import print_tensors_in_checkpoint_file\n",
    "# tensorboard --logdir=.\\_zfp\\data\\my_graph\n",
    "# tensorboard => http://localhost:6006 \n",
    "# jupyter => http://localhost:8889\n",
    "\n",
    "# import dataio\n",
    "# import ops"
   ]
  },
  {
   "cell_type": "code",
   "execution_count": 2,
   "metadata": {},
   "outputs": [],
   "source": [
    "import random\n",
    "import matplotlib.pyplot as plt\n",
    "# from wordcloud import WordCloud, STOPWORDS #used to generate world cloud\n",
    "\n",
    "from __future__ import absolute_import, division, print_function\n",
    "import numpy as np\n",
    "import pandas as pd"
   ]
  },
  {
   "cell_type": "markdown",
   "metadata": {},
   "source": [
    "# OPS"
   ]
  },
  {
   "cell_type": "code",
   "execution_count": null,
   "metadata": {},
   "outputs": [],
   "source": [
    "# SVD = Singular Value Decomposition \n",
    "def inference_svd(user_batch, item_batch, user_num, item_num, dim=5, device=\"/cpu:0\"):\n",
    "    with tf.device(\"/cpu:0\"):\n",
    "        bias_global = tf.get_variable(\"bias_global\", shape=[])\n",
    "        w_bias_user = tf.get_variable(\"embd_bias_user\", shape=[user_num])\n",
    "        w_bias_item = tf.get_variable(\"embd_bias_item\", shape=[item_num])\n",
    "        bias_user = tf.nn.embedding_lookup(w_bias_user, user_batch, name=\"bias_user\")\n",
    "        bias_item = tf.nn.embedding_lookup(w_bias_item, item_batch, name=\"bias_item\")\n",
    "        w_user = tf.get_variable(\"embd_user\", shape=[user_num, dim],\n",
    "                                 initializer=tf.truncated_normal_initializer(stddev=0.02))\n",
    "        w_item = tf.get_variable(\"embd_item\", shape=[item_num, dim],\n",
    "                                 initializer=tf.truncated_normal_initializer(stddev=0.02))\n",
    "        embd_user = tf.nn.embedding_lookup(w_user, user_batch, name=\"embedding_user\")\n",
    "        embd_item = tf.nn.embedding_lookup(w_item, item_batch, name=\"embedding_item\")\n",
    "    with tf.device(device):\n",
    "        infer = tf.reduce_sum(tf.multiply(embd_user, embd_item), 1)\n",
    "        infer = tf.add(infer, bias_global)\n",
    "        infer = tf.add(infer, bias_user)\n",
    "        infer = tf.add(infer, bias_item, name=\"svd_inference\")\n",
    "        regularizer = tf.add(tf.nn.l2_loss(embd_user), tf.nn.l2_loss(embd_item), name=\"svd_regularizer\")\n",
    "    return infer, regularizer\n",
    "\n",
    "\n",
    "def optimization(infer, regularizer, rate_batch, learning_rate=0.001, reg=0.1, device=\"/cpu:0\"):\n",
    "    global_step = tf.train.get_global_step()\n",
    "    assert global_step is not None\n",
    "    with tf.device(device):\n",
    "        cost_l2 = tf.nn.l2_loss(tf.subtract(infer, rate_batch))\n",
    "        penalty = tf.constant(reg, dtype=tf.float32, shape=[], name=\"l2\")\n",
    "        cost = tf.add(cost_l2, tf.multiply(regularizer, penalty))\n",
    "        train_op = tf.train.AdamOptimizer(learning_rate).minimize(cost, global_step=global_step)\n",
    "    return cost, train_op\n"
   ]
  },
  {
   "cell_type": "code",
   "execution_count": null,
   "metadata": {},
   "outputs": [],
   "source": []
  },
  {
   "cell_type": "code",
   "execution_count": null,
   "metadata": {},
   "outputs": [],
   "source": []
  },
  {
   "cell_type": "markdown",
   "metadata": {},
   "source": [
    "# DATAIO"
   ]
  },
  {
   "cell_type": "code",
   "execution_count": null,
   "metadata": {},
   "outputs": [],
   "source": [
    "def read_movies(filname, sep=\"::\"):\n",
    "    col_names = [\"movie\", \"title\", \"tags\"]\n",
    "    df = pd.read_csv(filname, sep=sep, header=None, names=col_names, engine='python')\n",
    "    #print (df)\n",
    "    print (\"Movies file length:\")\n",
    "    print (len(df))\t\n",
    "\n",
    "    print (df[\"title\"][0])\n",
    "    print (df[\"movie\"][0])\n",
    "    print (df[\"tags\"][0])\n",
    "    df[\"movie\"] = df[\"movie\"].astype(np.int32)\n",
    "    return df\n",
    "\n",
    "def read_process(filname, sep=\"\\t\"):\n",
    "    col_names = [\"user\", \"item\", \"rate\", \"st\"]\n",
    "    df = pd.read_csv(filname, sep=sep, header=None, names=col_names, engine='python')\n",
    "    df[\"user\"] -= 1\n",
    "    df[\"item\"] -= 1\n",
    "    for col in (\"user\", \"item\"):\n",
    "        df[col] = df[col].astype(np.int32)\n",
    "    df[\"rate\"] = df[\"rate\"].astype(np.float32)\n",
    "    return df"
   ]
  },
  {
   "cell_type": "code",
   "execution_count": null,
   "metadata": {},
   "outputs": [],
   "source": [
    "class ShuffleIterator(object):\n",
    "    \"\"\"\n",
    "    Randomly generate batches\n",
    "    \"\"\"\n",
    "    def __init__(self, inputs, batch_size=10):\n",
    "        self.inputs = inputs\n",
    "        self.batch_size = batch_size\n",
    "        self.num_cols = len(self.inputs)\n",
    "        self.len = len(self.inputs[0])\n",
    "        self.inputs = np.transpose(np.vstack([np.array(self.inputs[i]) for i in range(self.num_cols)]))\n",
    "\n",
    "    def __len__(self):\n",
    "        return self.len\n",
    "\n",
    "    def __iter__(self):\n",
    "        return self\n",
    "\n",
    "    def __next__(self):\n",
    "        return self.next()\n",
    "\n",
    "    def next(self):\n",
    "        ids = np.random.randint(0, self.len, (self.batch_size,))\n",
    "        out = self.inputs[ids, :]\n",
    "        return [out[:, i] for i in range(self.num_cols)]"
   ]
  },
  {
   "cell_type": "code",
   "execution_count": null,
   "metadata": {},
   "outputs": [],
   "source": [
    "class OneEpochIterator(ShuffleIterator):\n",
    "    \"\"\"\n",
    "    Sequentially generate one-epoch batches, typically for test data\n",
    "    \"\"\"\n",
    "    def __init__(self, inputs, batch_size=10):\n",
    "        super(OneEpochIterator, self).__init__(inputs, batch_size=batch_size)\n",
    "        if batch_size > 0:\n",
    "            self.idx_group = np.array_split(np.arange(self.len), np.ceil(self.len / batch_size))\n",
    "        else:\n",
    "            self.idx_group = [np.arange(self.len)]\n",
    "        self.group_id = 0\n",
    "\n",
    "    def next(self):\n",
    "        if self.group_id >= len(self.idx_group):\n",
    "            self.group_id = 0\n",
    "            raise StopIteration\n",
    "        out = self.inputs[self.idx_group[self.group_id], :]\n",
    "        self.group_id += 1\n",
    "        return [out[:, i] for i in range(self.num_cols)]"
   ]
  },
  {
   "cell_type": "markdown",
   "metadata": {},
   "source": [
    "# start! "
   ]
  },
  {
   "cell_type": "code",
   "execution_count": 3,
   "metadata": {},
   "outputs": [],
   "source": [
    "np.random.seed(13575)\n",
    "\n",
    "BATCH_SIZE = 1000\n",
    "USER_NUM = 6040\n",
    "ITEM_NUM = 3952\n",
    "DIM = 15\n",
    "EPOCH_MAX = 100\n",
    "DEVICE = \"/cpu:0\""
   ]
  },
  {
   "cell_type": "code",
   "execution_count": 4,
   "metadata": {},
   "outputs": [],
   "source": [
    "def clip(x):\n",
    "    return np.clip(x, 1.0, 5.0)\n",
    "\n",
    "\n",
    "def make_scalar_summary(name, val):\n",
    "    return summary_pb2.Summary(value=[summary_pb2.Summary.Value(tag=name, simple_value=val)])\n",
    "\n",
    "def get_data():\n",
    "    df = read_process(\"../../_data_tmp/movielens/ml-1m/ratings.dat\", sep=\"::\")\n",
    "    rows = len(df)\n",
    "    df = df.iloc[np.random.permutation(rows)].reset_index(drop=True)\n",
    "    split_index = int(rows * 0.9)\n",
    "    df_train = df[0:split_index]\n",
    "    df_test = df[split_index:].reset_index(drop=True)\n",
    "    return df_train, df_test, rows\n",
    "\n",
    "def get_movies():\n",
    "    df = read_movies(\"../../_data_tmp/movielens/ml-1m/movies.dat\", sep=\"::\")\n",
    "    rows = len(df)\n",
    "    return df, rows"
   ]
  },
  {
   "cell_type": "markdown",
   "metadata": {},
   "source": [
    "# Data"
   ]
  },
  {
   "cell_type": "code",
   "execution_count": 5,
   "metadata": {},
   "outputs": [
    {
     "name": "stdout",
     "output_type": "stream",
     "text": [
      "Movies file length:\n",
      "3883\n",
      "Toy Story (1995)\n",
      "1\n",
      "Animation|Children's|Comedy\n"
     ]
    }
   ],
   "source": [
    "df_train, df_test, length = get_data()\n",
    "df_movies,rows = get_movies()"
   ]
  },
  {
   "cell_type": "code",
   "execution_count": 6,
   "metadata": {},
   "outputs": [
    {
     "name": "stdout",
     "output_type": "stream",
     "text": [
      "ratings: 1000209 - tr900188 - ts100021\n"
     ]
    },
    {
     "data": {
      "text/plain": [
       "1000209"
      ]
     },
     "execution_count": 6,
     "metadata": {},
     "output_type": "execute_result"
    }
   ],
   "source": [
    "print(\"ratings: {} - tr{} - ts{}\" .format(length, len(df_train),len(df_test) ))\n",
    "df_ratings = pd.concat([df_train, df_test ] )\n",
    "len(df_ratings)"
   ]
  },
  {
   "cell_type": "code",
   "execution_count": 7,
   "metadata": {},
   "outputs": [],
   "source": [
    "# print(df_train.iloc[0:10])\n",
    "# df_train.describe()"
   ]
  },
  {
   "cell_type": "code",
   "execution_count": 8,
   "metadata": {},
   "outputs": [
    {
     "name": "stdout",
     "output_type": "stream",
     "text": [
      "Movies file length: 3883\n"
     ]
    }
   ],
   "source": [
    "print (\"Movies file length: {}\" .format(len(df_movies)))"
   ]
  },
  {
   "cell_type": "code",
   "execution_count": 9,
   "metadata": {},
   "outputs": [
    {
     "data": {
      "text/html": [
       "<div>\n",
       "<style>\n",
       "    .dataframe thead tr:only-child th {\n",
       "        text-align: right;\n",
       "    }\n",
       "\n",
       "    .dataframe thead th {\n",
       "        text-align: left;\n",
       "    }\n",
       "\n",
       "    .dataframe tbody tr th {\n",
       "        vertical-align: top;\n",
       "    }\n",
       "</style>\n",
       "<table border=\"1\" class=\"dataframe\">\n",
       "  <thead>\n",
       "    <tr style=\"text-align: right;\">\n",
       "      <th></th>\n",
       "      <th>movie</th>\n",
       "      <th>title</th>\n",
       "      <th>tags</th>\n",
       "    </tr>\n",
       "  </thead>\n",
       "  <tbody>\n",
       "    <tr>\n",
       "      <th>0</th>\n",
       "      <td>1</td>\n",
       "      <td>Toy Story (1995)</td>\n",
       "      <td>Animation|Children's|Comedy</td>\n",
       "    </tr>\n",
       "    <tr>\n",
       "      <th>1</th>\n",
       "      <td>2</td>\n",
       "      <td>Jumanji (1995)</td>\n",
       "      <td>Adventure|Children's|Fantasy</td>\n",
       "    </tr>\n",
       "    <tr>\n",
       "      <th>2</th>\n",
       "      <td>3</td>\n",
       "      <td>Grumpier Old Men (1995)</td>\n",
       "      <td>Comedy|Romance</td>\n",
       "    </tr>\n",
       "    <tr>\n",
       "      <th>3</th>\n",
       "      <td>4</td>\n",
       "      <td>Waiting to Exhale (1995)</td>\n",
       "      <td>Comedy|Drama</td>\n",
       "    </tr>\n",
       "    <tr>\n",
       "      <th>4</th>\n",
       "      <td>5</td>\n",
       "      <td>Father of the Bride Part II (1995)</td>\n",
       "      <td>Comedy</td>\n",
       "    </tr>\n",
       "    <tr>\n",
       "      <th>5</th>\n",
       "      <td>6</td>\n",
       "      <td>Heat (1995)</td>\n",
       "      <td>Action|Crime|Thriller</td>\n",
       "    </tr>\n",
       "    <tr>\n",
       "      <th>6</th>\n",
       "      <td>7</td>\n",
       "      <td>Sabrina (1995)</td>\n",
       "      <td>Comedy|Romance</td>\n",
       "    </tr>\n",
       "    <tr>\n",
       "      <th>7</th>\n",
       "      <td>8</td>\n",
       "      <td>Tom and Huck (1995)</td>\n",
       "      <td>Adventure|Children's</td>\n",
       "    </tr>\n",
       "    <tr>\n",
       "      <th>8</th>\n",
       "      <td>9</td>\n",
       "      <td>Sudden Death (1995)</td>\n",
       "      <td>Action</td>\n",
       "    </tr>\n",
       "    <tr>\n",
       "      <th>9</th>\n",
       "      <td>10</td>\n",
       "      <td>GoldenEye (1995)</td>\n",
       "      <td>Action|Adventure|Thriller</td>\n",
       "    </tr>\n",
       "  </tbody>\n",
       "</table>\n",
       "</div>"
      ],
      "text/plain": [
       "   movie                               title                          tags\n",
       "0      1                    Toy Story (1995)   Animation|Children's|Comedy\n",
       "1      2                      Jumanji (1995)  Adventure|Children's|Fantasy\n",
       "2      3             Grumpier Old Men (1995)                Comedy|Romance\n",
       "3      4            Waiting to Exhale (1995)                  Comedy|Drama\n",
       "4      5  Father of the Bride Part II (1995)                        Comedy\n",
       "5      6                         Heat (1995)         Action|Crime|Thriller\n",
       "6      7                      Sabrina (1995)                Comedy|Romance\n",
       "7      8                 Tom and Huck (1995)          Adventure|Children's\n",
       "8      9                 Sudden Death (1995)                        Action\n",
       "9     10                    GoldenEye (1995)     Action|Adventure|Thriller"
      ]
     },
     "execution_count": 9,
     "metadata": {},
     "output_type": "execute_result"
    }
   ],
   "source": [
    "df_movies.iloc[0:10]"
   ]
  },
  {
   "cell_type": "markdown",
   "metadata": {},
   "source": [
    "# Basic VIS"
   ]
  },
  {
   "cell_type": "code",
   "execution_count": 25,
   "metadata": {},
   "outputs": [
    {
     "name": "stdout",
     "output_type": "stream",
     "text": [
      "Movies file length: 3883\n"
     ]
    }
   ],
   "source": [
    "print (\"Movies file length: {}\" .format(len(df_movies)))"
   ]
  },
  {
   "cell_type": "code",
   "execution_count": 26,
   "metadata": {},
   "outputs": [
    {
     "data": {
      "text/plain": [
       "'Toy Story (1995)'"
      ]
     },
     "execution_count": 26,
     "metadata": {},
     "output_type": "execute_result"
    }
   ],
   "source": [
    "df_movies.iloc[0].title"
   ]
  },
  {
   "cell_type": "code",
   "execution_count": 28,
   "metadata": {},
   "outputs": [
    {
     "name": "stdout",
     "output_type": "stream",
     "text": [
      "<class 'pandas.core.frame.DataFrame'>\n",
      "RangeIndex: 3883 entries, 0 to 3882\n",
      "Data columns (total 3 columns):\n",
      "movie    3883 non-null int32\n",
      "title    3883 non-null object\n",
      "tags     3883 non-null object\n",
      "dtypes: int32(1), object(2)\n",
      "memory usage: 75.9+ KB\n"
     ]
    }
   ],
   "source": [
    "# type(df_movies)\n",
    "# get titles\n",
    "# df_movies.head() # display first 5entries\n",
    "df_movies.info()\n",
    "\n"
   ]
  },
  {
   "cell_type": "code",
   "execution_count": 33,
   "metadata": {},
   "outputs": [
    {
     "name": "stdout",
     "output_type": "stream",
     "text": [
      "unique number of movies: 3883\n"
     ]
    }
   ],
   "source": [
    "#number of unique movies\n",
    "movies = df_movies['movie'].unique().tolist()\n",
    "print(\"unique number of movies: \" + str(len(movies)) )"
   ]
  },
  {
   "cell_type": "code",
   "execution_count": 17,
   "metadata": {},
   "outputs": [],
   "source": [
    "# df_ratings.describe() #min 1 - max 5"
   ]
  },
  {
   "cell_type": "code",
   "execution_count": 65,
   "metadata": {},
   "outputs": [
    {
     "data": {
      "text/html": [
       "<div>\n",
       "<style>\n",
       "    .dataframe thead tr:only-child th {\n",
       "        text-align: right;\n",
       "    }\n",
       "\n",
       "    .dataframe thead th {\n",
       "        text-align: left;\n",
       "    }\n",
       "\n",
       "    .dataframe tbody tr th {\n",
       "        vertical-align: top;\n",
       "    }\n",
       "</style>\n",
       "<table border=\"1\" class=\"dataframe\">\n",
       "  <thead>\n",
       "    <tr style=\"text-align: right;\">\n",
       "      <th></th>\n",
       "      <th>user</th>\n",
       "      <th>item</th>\n",
       "      <th>rate</th>\n",
       "      <th>st</th>\n",
       "    </tr>\n",
       "  </thead>\n",
       "  <tbody>\n",
       "    <tr>\n",
       "      <th>0</th>\n",
       "      <td>2662</td>\n",
       "      <td>3209</td>\n",
       "      <td>4.0</td>\n",
       "      <td>973459383</td>\n",
       "    </tr>\n",
       "    <tr>\n",
       "      <th>1</th>\n",
       "      <td>1752</td>\n",
       "      <td>1911</td>\n",
       "      <td>5.0</td>\n",
       "      <td>974702638</td>\n",
       "    </tr>\n",
       "    <tr>\n",
       "      <th>2</th>\n",
       "      <td>2105</td>\n",
       "      <td>2452</td>\n",
       "      <td>1.0</td>\n",
       "      <td>974755210</td>\n",
       "    </tr>\n",
       "    <tr>\n",
       "      <th>3</th>\n",
       "      <td>1779</td>\n",
       "      <td>3051</td>\n",
       "      <td>2.0</td>\n",
       "      <td>1027037687</td>\n",
       "    </tr>\n",
       "    <tr>\n",
       "      <th>4</th>\n",
       "      <td>1697</td>\n",
       "      <td>1526</td>\n",
       "      <td>3.0</td>\n",
       "      <td>974773234</td>\n",
       "    </tr>\n",
       "  </tbody>\n",
       "</table>\n",
       "</div>"
      ],
      "text/plain": [
       "   user  item  rate          st\n",
       "0  2662  3209   4.0   973459383\n",
       "1  1752  1911   5.0   974702638\n",
       "2  2105  2452   1.0   974755210\n",
       "3  1779  3051   2.0  1027037687\n",
       "4  1697  1526   3.0   974773234"
      ]
     },
     "execution_count": 65,
     "metadata": {},
     "output_type": "execute_result"
    }
   ],
   "source": [
    "df_ratings.head()"
   ]
  },
  {
   "cell_type": "code",
   "execution_count": 57,
   "metadata": {},
   "outputs": [
    {
     "name": "stdout",
     "output_type": "stream",
     "text": [
      "data clean up\n"
     ]
    }
   ],
   "source": [
    "# data clean up: \n",
    "df_movies.shape # 3883, 3\n",
    "df_movies.isnull().any() #is any row null: False \n",
    "df_ratings.shape #1000209 4\n",
    "df_ratings.isnull().any() # False! \n",
    "# ? tags... ml2-m ... \n",
    "# tags_data=pd.read_csv('../input/tags.csv',sep=',')\n",
    "# tags_data.shape\n",
    "# tags_data.isnull().any()\n",
    "# tags_data.dopna()\n",
    "# unique_tags=tags_data['tag'].unique().tolist()\n",
    "# len(unique_tags)\n",
    "print(\"data clean up\")"
   ]
  },
  {
   "cell_type": "code",
   "execution_count": 18,
   "metadata": {},
   "outputs": [],
   "source": [
    "comedy_movies = df_movies['tags'].str.contains('Comedy')\n",
    "# df_movies[comedy_movies].head()"
   ]
  },
  {
   "cell_type": "code",
   "execution_count": 19,
   "metadata": {},
   "outputs": [],
   "source": [
    "movie_data_ratings_data=df_movies.merge(df_ratings, left_on = \"movie\" , right_on = 'item', how = 'inner') #on= \"movieId\"\n",
    "# movie_data_ratings_data.head(3)"
   ]
  },
  {
   "cell_type": "code",
   "execution_count": 20,
   "metadata": {},
   "outputs": [],
   "source": [
    "high_rated= movie_data_ratings_data['rate']>4.0\n",
    "# movie_data_ratings_data[high_rated].head(10)\n"
   ]
  },
  {
   "cell_type": "code",
   "execution_count": 21,
   "metadata": {},
   "outputs": [],
   "source": [
    "most_rated = movie_data_ratings_data.groupby('title').size().sort_values(ascending=False)[:25]\n",
    "# most_rated.head(25)"
   ]
  },
  {
   "cell_type": "code",
   "execution_count": 22,
   "metadata": {},
   "outputs": [],
   "source": [
    "# df_movies[['title','genres']].head()\n",
    "# get the year of the movies: \n",
    "df_movies['year'] =df_movies['title'].str.extract('.*\\((.*)\\).*',expand = False)\n",
    "# df_movies.head(5)\n",
    "\n"
   ]
  },
  {
   "cell_type": "code",
   "execution_count": 26,
   "metadata": {},
   "outputs": [],
   "source": [
    "# count how many times each genre appear: \n",
    "def count_word(df, ref_col, liste):\n",
    "    keyword_count = dict()\n",
    "    for s in liste: keyword_count[s] = 0\n",
    "    for liste_keywords in df[ref_col].str.split('|'):\n",
    "        if type(liste_keywords) == float and pd.isnull(liste_keywords): continue\n",
    "        for s in liste_keywords: \n",
    "            if pd.notnull(s): keyword_count[s] += 1\n",
    "    # convert the dictionary in a list to sort the keywords  by frequency\n",
    "    keyword_occurences = []\n",
    "    for k,v in keyword_count.items():\n",
    "        keyword_occurences.append([k,v])\n",
    "    keyword_occurences.sort(key = lambda x:x[1], reverse = True)\n",
    "    return keyword_occurences, keyword_count"
   ]
  },
  {
   "cell_type": "code",
   "execution_count": 27,
   "metadata": {},
   "outputs": [],
   "source": [
    "genre_labels = set()\n",
    "for s in df_movies['tags'].str.split('|').values:\n",
    "    genre_labels = genre_labels.union(set(s))"
   ]
  },
  {
   "cell_type": "code",
   "execution_count": 28,
   "metadata": {},
   "outputs": [
    {
     "data": {
      "text/plain": [
       "[['Drama', 1603],\n",
       " ['Comedy', 1200],\n",
       " ['Action', 503],\n",
       " ['Thriller', 492],\n",
       " ['Romance', 471],\n",
       " ['Horror', 343],\n",
       " ['Adventure', 283],\n",
       " ['Sci-Fi', 276],\n",
       " [\"Children's\", 251],\n",
       " ['Crime', 211],\n",
       " ['War', 143],\n",
       " ['Documentary', 127],\n",
       " ['Musical', 114],\n",
       " ['Mystery', 106],\n",
       " ['Animation', 105],\n",
       " ['Western', 68],\n",
       " ['Fantasy', 68],\n",
       " ['Film-Noir', 44]]"
      ]
     },
     "execution_count": 28,
     "metadata": {},
     "output_type": "execute_result"
    }
   ],
   "source": [
    "keyword_occurences, dum = count_word(df_movies, 'tags', genre_labels)\n",
    "keyword_occurences"
   ]
  },
  {
   "cell_type": "code",
   "execution_count": 29,
   "metadata": {},
   "outputs": [],
   "source": [
    "def random_color_func(word=None, font_size=None, position=None,\n",
    "                      orientation=None, font_path=None, random_state=None):\n",
    "    h = int(360.0 * tone / 255.0)\n",
    "    s = int(100.0 * 255.0 / 255.0)\n",
    "    l = int(100.0 * float(random_state.randint(70, 120)) / 255.0)\n",
    "    return \"hsl({}, {}%, {}%)\".format(h, s, l)\n",
    "\n",
    "\n",
    "#Finally, the result is shown as a wordcloud:\n",
    "words = dict()\n",
    "trunc_occurences = keyword_occurences[0:50]\n",
    "for s in trunc_occurences:\n",
    "    words[s[0]] = s[1]\n",
    "tone = 100 # define the color of the words\n",
    "f, ax = plt.subplots(figsize=(14, 6))\n",
    "# wordcloud = WordCloud(width=550,height=300, background_color='black', \n",
    "#                       max_words=1628,relative_scaling=0.7,\n",
    "#                       color_func = random_color_func,\n",
    "#                       normalize_plurals=False)\n",
    "# wordcloud.generate_from_frequencies(words)\n",
    "# plt.imshow(wordcloud, interpolation=\"bilinear\")\n",
    "# plt.axis('off')\n",
    "# plt.show()"
   ]
  },
  {
   "cell_type": "code",
   "execution_count": 30,
   "metadata": {},
   "outputs": [
    {
     "data": {
      "text/plain": [
       "<matplotlib.text.Text at 0x76dcf60>"
      ]
     },
     "execution_count": 30,
     "metadata": {},
     "output_type": "execute_result"
    }
   ],
   "source": [
    "fig = plt.figure(1, figsize=(18,13))\n",
    "ax2 = fig.add_subplot(2,1,2)\n",
    "y_axis = [i[1] for i in trunc_occurences]\n",
    "x_axis = [k for k,i in enumerate(trunc_occurences)]\n",
    "x_label = [i[0] for i in trunc_occurences]\n",
    "plt.xticks(rotation=85, fontsize = 15)\n",
    "plt.yticks(fontsize = 15)\n",
    "plt.xticks(x_axis, x_label)\n",
    "plt.ylabel(\"No. of occurences\", fontsize = 24, labelpad = 0)\n",
    "ax2.bar(x_axis, y_axis, align = 'center', color='r')\n",
    "plt.title(\"Popularity of Genres\",bbox={'facecolor':'k', 'pad':5},color='w',fontsize = 30)\n",
    "# plt.show()"
   ]
  },
  {
   "cell_type": "code",
   "execution_count": null,
   "metadata": {},
   "outputs": [],
   "source": []
  },
  {
   "cell_type": "markdown",
   "metadata": {},
   "source": [
    "# Network + train + test"
   ]
  },
  {
   "cell_type": "code",
   "execution_count": 14,
   "metadata": {},
   "outputs": [
    {
     "name": "stdout",
     "output_type": "stream",
     "text": [
      "Samples per batch = 900\n"
     ]
    }
   ],
   "source": [
    "tf.reset_default_graph()\n",
    "samples_per_batch = len(df_train) // BATCH_SIZE\n",
    "print(\"Samples per batch = {}\".format(samples_per_batch))\n",
    "iter_train = ShuffleIterator([df_train[\"user\"],\n",
    "                                     df_train[\"item\"],\n",
    "                                    df_train[\"rate\"]],\n",
    "                                    batch_size=BATCH_SIZE)\n",
    "\n",
    "iter_test = OneEpochIterator([df_test[\"user\"],\n",
    "                                     df_test[\"item\"],\n",
    "                                    df_test[\"rate\"]],\n",
    "                                    batch_size=-1)\n",
    "\n",
    "user_batch = tf.placeholder(tf.int32, shape=[None], name=\"id_user\")\n",
    "item_batch = tf.placeholder(tf.int32, shape=[None], name=\"id_item\")\n",
    "rate_batch = tf.placeholder(tf.float32, shape=[None])\n",
    "\n",
    "infer, regularizer = inference_svd(user_batch, item_batch, user_num=USER_NUM, item_num=ITEM_NUM, dim=DIM, device=DEVICE)\n",
    "global_step = tf.contrib.framework.get_or_create_global_step()\n",
    "_, train_op = optimization(infer, regularizer, rate_batch, learning_rate=0.001, reg=0.05, device=DEVICE)\n",
    "#zeros= tf.Variable(tf.zeros([1]),name=\"zeros\")\n"
   ]
  },
  {
   "cell_type": "code",
   "execution_count": 15,
   "metadata": {},
   "outputs": [],
   "source": [
    "\n",
    "def svd(train, test,length,moviefile, trainFl=False):\n",
    "    init_op = tf.global_variables_initializer()\n",
    "    saver=tf.train.Saver()\n",
    "    with tf.Session() as sess:\n",
    "        sess.run(init_op)\n",
    "        if trainFl == True: \n",
    "            summary_writer = tf.summary.FileWriter(logdir=\"./tmp/svd/log\", graph=sess.graph)\n",
    "            print(\"{} {} {} {}\".format(\"epoch\", \"train_error\", \"val_error\", \"elapsed_time\"))\n",
    "            errors = deque(maxlen=samples_per_batch)\n",
    "            start = time.time()\n",
    "            for i in range(EPOCH_MAX * samples_per_batch):\n",
    "                users, items, rates = next(iter_train)\n",
    "                _, pred_batch = sess.run([train_op, infer], feed_dict={user_batch: users,\n",
    "                                                                    item_batch: items,\n",
    "                                                                                                                        rate_batch: rates})\n",
    "                pred_batch = clip(pred_batch)\n",
    "                errors.append(np.power(pred_batch - rates, 2))\n",
    "                if i % samples_per_batch == 0:\n",
    "                    train_err = np.sqrt(np.mean(errors))\n",
    "                    test_err2 = np.array([])\n",
    "                    for users, items, rates in iter_test:\n",
    "                        pred_batch = sess.run(infer, feed_dict={user_batch: users,\n",
    "                                                                item_batch: items})\n",
    "                        pred_batch = clip(pred_batch)\n",
    "                        test_err2 = np.append(test_err2, np.power(pred_batch - rates, 2))\n",
    "                    end = time.time()\n",
    "                    test_err = np.sqrt(np.mean(test_err2))\n",
    "                    print(\"{:3d} {:f} {:f} {:f}(s)\".format(i // samples_per_batch, train_err, test_err,\n",
    "                                                        end - start))\n",
    "                    train_err_summary = make_scalar_summary(\"training_error\", train_err)\n",
    "                    test_err_summary = make_scalar_summary(\"test_error\", test_err)\n",
    "                    summary_writer.add_summary(train_err_summary, i)\n",
    "                    summary_writer.add_summary(test_err_summary, i)\n",
    "                    start = end\n",
    "\n",
    "            #meta_graph_def = tf.train.export_meta_graph(filename='/tmp/tfrecomm.meta')\n",
    "            save_path=saver.save(sess,\"./tmp/\")\n",
    "        else: \n",
    "            print(\"model restored\")\n",
    "            saver.restore(sess, \"./tmp/\")"
   ]
  },
  {
   "cell_type": "markdown",
   "metadata": {},
   "source": [
    "# Network + train + test v2"
   ]
  },
  {
   "cell_type": "code",
   "execution_count": null,
   "metadata": {},
   "outputs": [],
   "source": [
    "tf.reset_default_graph()\n",
    "samples_per_batch = len(df_train) // BATCH_SIZE\n",
    "print(\"Samples per batch = {}\".format(samples_per_batch))\n",
    "iter_train = ShuffleIterator([df_train[\"user\"],\n",
    "                                     df_train[\"item\"],\n",
    "                                    df_train[\"rate\"]],\n",
    "                                    batch_size=BATCH_SIZE)\n",
    "\n",
    "iter_test = OneEpochIterator([df_test[\"user\"],\n",
    "                                     df_test[\"item\"],\n",
    "                                    df_test[\"rate\"]],\n",
    "                                    batch_size=-1)\n",
    "\n",
    "user_batch = tf.placeholder(tf.int32, shape=[None], name=\"id_user\")\n",
    "item_batch = tf.placeholder(tf.int32, shape=[None], name=\"id_item\")\n",
    "rate_batch = tf.placeholder(tf.float32, shape=[None])\n",
    "\n",
    "infer, regularizer = inference_svd(user_batch, item_batch, user_num=USER_NUM, item_num=ITEM_NUM, dim=DIM, device=DEVICE)\n",
    "global_step = tf.contrib.framework.get_or_create_global_step()\n",
    "_, train_op = optimization(infer, regularizer, rate_batch, learning_rate=0.001, reg=0.05, device=DEVICE)\n",
    "#zeros= tf.Variable(tf.zeros([1]),name=\"zeros\")\n"
   ]
  },
  {
   "cell_type": "code",
   "execution_count": null,
   "metadata": {},
   "outputs": [],
   "source": [
    "\n",
    "def svd2(train, test,length,moviefile, trainFl=False):\n",
    "    init_op = tf.global_variables_initializer()\n",
    "    saver=tf.train.Saver()\n",
    "    with tf.Session() as sess:\n",
    "        sess.run(init_op)\n",
    "        if trainFl == True: \n",
    "            summary_writer = tf.summary.FileWriter(logdir=\"./tmp/svd/log\", graph=sess.graph)\n",
    "            print(\"{} {} {} {}\".format(\"epoch\", \"train_error\", \"val_error\", \"elapsed_time\"))\n",
    "            errors = deque(maxlen=samples_per_batch)\n",
    "            start = time.time()\n",
    "            for i in range(EPOCH_MAX * samples_per_batch):\n",
    "                users, items, rates = next(iter_train)\n",
    "                _, pred_batch = sess.run([train_op, infer], feed_dict={user_batch: users,\n",
    "                                                                    item_batch: items,\n",
    "                                                                                                                        rate_batch: rates})\n",
    "                pred_batch = clip(pred_batch)\n",
    "                errors.append(np.power(pred_batch - rates, 2))\n",
    "                if i % samples_per_batch == 0:\n",
    "                    train_err = np.sqrt(np.mean(errors))\n",
    "                    test_err2 = np.array([])\n",
    "                    for users, items, rates in iter_test:\n",
    "                        pred_batch = sess.run(infer, feed_dict={user_batch: users,\n",
    "                                                                item_batch: items})\n",
    "                        pred_batch = clip(pred_batch)\n",
    "                        test_err2 = np.append(test_err2, np.power(pred_batch - rates, 2))\n",
    "                    end = time.time()\n",
    "                    test_err = np.sqrt(np.mean(test_err2))\n",
    "                    print(\"{:3d} {:f} {:f} {:f}(s)\".format(i // samples_per_batch, train_err, test_err,\n",
    "                                                        end - start))\n",
    "                    train_err_summary = make_scalar_summary(\"training_error\", train_err)\n",
    "                    test_err_summary = make_scalar_summary(\"test_error\", test_err)\n",
    "                    summary_writer.add_summary(train_err_summary, i)\n",
    "                    summary_writer.add_summary(test_err_summary, i)\n",
    "                    start = end\n",
    "\n",
    "            #meta_graph_def = tf.train.export_meta_graph(filename='/tmp/tfrecomm.meta')\n",
    "            save_path=saver.save(sess,\"./tmp/\")\n",
    "        else: \n",
    "            print(\"model restored\")\n",
    "            saver.restore(sess, \"./tmp/\")"
   ]
  },
  {
   "cell_type": "code",
   "execution_count": 16,
   "metadata": {},
   "outputs": [
    {
     "name": "stdout",
     "output_type": "stream",
     "text": [
      "model restored\n",
      "INFO:tensorflow:Restoring parameters from ./tmp/\n",
      "Done!\n"
     ]
    }
   ],
   "source": [
    "svd(df_train, df_test, length,df_movies, trainFl=False) \n",
    "print(\"Done!\")"
   ]
  },
  {
   "cell_type": "markdown",
   "metadata": {},
   "source": [
    "# EXECUTION"
   ]
  },
  {
   "cell_type": "code",
   "execution_count": 14,
   "metadata": {},
   "outputs": [],
   "source": [
    "def printMM(topmovies):\n",
    "    print (topmovies)\n",
    "    print(\"TOP Movies\")\n",
    "    for i,r in topmovies:\n",
    "        print(\"{0:5} - {1:1.2f} - {2}\" .format(i,  r, df_movies.iloc[i].title  ))"
   ]
  },
  {
   "cell_type": "code",
   "execution_count": null,
   "metadata": {},
   "outputs": [],
   "source": []
  },
  {
   "cell_type": "code",
   "execution_count": 15,
   "metadata": {},
   "outputs": [],
   "source": [
    "def test(train, test,length,moviefile, data, trainFl=False):\n",
    "    init_op = tf.global_variables_initializer()\n",
    "    #saver=tf.train.Saver()\n",
    "    with tf.Session() as sess:\n",
    "        sess.run(init_op)\n",
    "        #saver.restore(sess, \"./tmp/\")\n",
    "\n",
    "        movies=list(range(len(moviefile)))\n",
    "        #print (movies)\n",
    "        users=[1]\n",
    "        pred_batch = sess.run(infer, feed_dict={user_batch: users,item_batch: movies})\n",
    "        moviesrecomm=list(zip(movies,pred_batch))\n",
    "        smovies=sorted (moviesrecomm,key=lambda x:x[1],reverse=True)\n",
    "\n",
    "        print (\"\\nTop Movies ------------------------------------------------------------\")\n",
    "        topmovies= smovies[0:10]\n",
    "        #print (topmovies)\n",
    "        printMM(topmovies)\n",
    "        \n",
    "        #-----------------------------------------------------------------------------\n",
    "        \n",
    "        print (\"\\n User - data {} ------------------------------------------------------------\\n\" .format(data))\n",
    "        # give number between 1 - 5000\n",
    "        del users[:]\n",
    "        users.append(int(data))\n",
    "        pred_batch = sess.run(infer, feed_dict={user_batch: users,item_batch: movies})\n",
    "        moviesrecomm=list(zip(movies,pred_batch))\n",
    "        smovies=sorted (moviesrecomm,key=lambda x:x[1],reverse=True)\n",
    "        topmovies= smovies[0:10]\n",
    "        printMM(topmovies)\n",
    "        for item in topmovies:\n",
    "            itopmovie=item[0]\n",
    "            recommendedmovie=moviefile[\"title\"][itopmovie]\n",
    "            recommendedtags=moviefile[\"tags\"][itopmovie]\n",
    "    return"
   ]
  },
  {
   "cell_type": "code",
   "execution_count": 16,
   "metadata": {},
   "outputs": [
    {
     "name": "stdout",
     "output_type": "stream",
     "text": [
      "\n",
      "Top Movies ------------------------------------------------------------\n",
      "[(3005, 0.13799244), (1592, 0.13783297), (2703, 0.13691211), (2854, 0.13683367), (2291, 0.13662498), (176, 0.13657382), (1287, 0.13641189), (1208, 0.13638708), (2941, 0.13635924), (75, 0.13625325)]\n",
      "TOP Movies\n",
      " 3005 - 0.14 - Jeremiah Johnson (1972)\n",
      " 1592 - 0.14 - Stag (1997)\n",
      " 2703 - 0.14 - Detroit Rock City (1999)\n",
      " 2854 - 0.14 - Citizen's Band (a.k.a. Handle with Care) (1977)\n",
      " 2291 - 0.14 - Celebration, The (Festen) (1998)\n",
      "  176 - 0.14 - Love & Human Remains (1993)\n",
      " 1287 - 0.14 - When Harry Met Sally... (1989)\n",
      " 1208 - 0.14 - Quiet Man, The (1952)\n",
      " 2941 - 0.14 - Rosetta (1999)\n",
      "   75 - 0.14 - Screamers (1995)\n",
      "\n",
      " User - data 2 ------------------------------------------------------------\n",
      "\n",
      "[(2658, 0.13912864), (1461, 0.13912794), (3758, 0.13898048), (2999, 0.13883805), (3534, 0.13878934), (3215, 0.13874154), (2854, 0.13854349), (3228, 0.13849339), (547, 0.13841943), (1131, 0.13836853)]\n",
      "TOP Movies\n",
      " 2658 - 0.14 - Killer's Kiss (1955)\n",
      " 1461 - 0.14 - Love and Other Catastrophes (1996)\n",
      " 3758 - 0.14 - Better Living (1998)\n",
      " 2999 - 0.14 - Verdict, The (1982)\n",
      " 3534 - 0.14 - Gay Deceivers, The (1969)\n",
      " 3215 - 0.14 - They Might Be Giants (1971)\n",
      " 2854 - 0.14 - Citizen's Band (a.k.a. Handle with Care) (1977)\n",
      " 3228 - 0.14 - With Byrd at the South Pole (1930)\n",
      "  547 - 0.14 - Nightmare Before Christmas, The (1993)\n",
      " 1131 - 0.14 - When We Were Kings (1996)\n"
     ]
    }
   ],
   "source": [
    "test(df_train, df_test, length,df_movies, data=2, trainFl=False) "
   ]
  },
  {
   "cell_type": "code",
   "execution_count": null,
   "metadata": {},
   "outputs": [],
   "source": []
  },
  {
   "cell_type": "markdown",
   "metadata": {},
   "source": [
    "# NEXT = SHOW EMBEDDING GRAPH"
   ]
  },
  {
   "cell_type": "code",
   "execution_count": null,
   "metadata": {},
   "outputs": [],
   "source": []
  },
  {
   "cell_type": "code",
   "execution_count": null,
   "metadata": {},
   "outputs": [],
   "source": []
  },
  {
   "cell_type": "code",
   "execution_count": null,
   "metadata": {},
   "outputs": [],
   "source": []
  },
  {
   "cell_type": "markdown",
   "metadata": {
    "heading_collapsed": true
   },
   "source": [
    "# TO DO: \n",
    "* Read Users \n",
    "* Compare results for similar users \n",
    "* Show statistics\n",
    "\n",
    "\n",
    "## Users Information\n",
    "- Gender is denoted by a \"M\" for male and \"F\" for female\n",
    "- Age is chosen from the following ranges:\n",
    "\n",
    "\t*  1:  \"Under 18\"\n",
    "\t* 18:  \"18-24\"\n",
    "\t* 25:  \"25-34\"\n",
    "\t* 35:  \"35-44\"\n",
    "\t* 45:  \"45-49\"\n",
    "\t* 50:  \"50-55\"\n",
    "\t* 56:  \"56+\"\n",
    "\n",
    "- Occupation is chosen from the following choices:\n",
    "\t*  0:  \"other\" or not specified\n",
    "\t*  1:  \"academic/educator\"\n",
    "\t*  2:  \"artist\"\n",
    "\t*  3:  \"clerical/admin\"\n",
    "\t*  4:  \"college/grad student\"\n",
    "\t*  5:  \"customer service\"\n",
    "\t*  6:  \"doctor/health care\"\n",
    "\t*  7:  \"executive/managerial\"\n",
    "\t*  8:  \"farmer\"\n",
    "\t*  9:  \"homemaker\"\n",
    "\t* 10:  \"K-12 student\"\n",
    "\t* 11:  \"lawyer\"\n",
    "\t* 12:  \"programmer\"\n",
    "\t* 13:  \"retired\"\n",
    "\t* 14:  \"sales/marketing\"\n",
    "\t* 15:  \"scientist\"\n",
    "\t* 16:  \"self-employed\"\n",
    "\t* 17:  \"technician/engineer\"\n",
    "\t* 18:  \"tradesman/craftsman\"\n",
    "\t* 19:  \"unemployed\"\n",
    "\t* 20:  \"writer\""
   ]
  },
  {
   "cell_type": "code",
   "execution_count": 15,
   "metadata": {
    "hidden": true
   },
   "outputs": [],
   "source": [
    "import pandas as pd"
   ]
  },
  {
   "cell_type": "code",
   "execution_count": 16,
   "metadata": {
    "hidden": true
   },
   "outputs": [],
   "source": [
    "def get_users():\n",
    "    col_names = [\"userID\", \"gender\", \"age\", \"occupation\", \"zipcode\"]\n",
    "    df = pd.read_csv(\"./tmp/movielens/ml-1m/users.dat\", sep=\"::\", header=None, names=col_names, engine='python')\n",
    "    rows = len(df)\n",
    "    return df, rows\n"
   ]
  },
  {
   "cell_type": "code",
   "execution_count": 17,
   "metadata": {
    "hidden": true
   },
   "outputs": [],
   "source": [
    "df_users,rows = get_users()\n"
   ]
  },
  {
   "cell_type": "code",
   "execution_count": 18,
   "metadata": {
    "hidden": true
   },
   "outputs": [
    {
     "name": "stdout",
     "output_type": "stream",
     "text": [
      "6040\n"
     ]
    },
    {
     "data": {
      "text/html": [
       "<div>\n",
       "<style>\n",
       "    .dataframe thead tr:only-child th {\n",
       "        text-align: right;\n",
       "    }\n",
       "\n",
       "    .dataframe thead th {\n",
       "        text-align: left;\n",
       "    }\n",
       "\n",
       "    .dataframe tbody tr th {\n",
       "        vertical-align: top;\n",
       "    }\n",
       "</style>\n",
       "<table border=\"1\" class=\"dataframe\">\n",
       "  <thead>\n",
       "    <tr style=\"text-align: right;\">\n",
       "      <th></th>\n",
       "      <th>userID</th>\n",
       "      <th>age</th>\n",
       "      <th>occupation</th>\n",
       "    </tr>\n",
       "  </thead>\n",
       "  <tbody>\n",
       "    <tr>\n",
       "      <th>count</th>\n",
       "      <td>6040.000000</td>\n",
       "      <td>6040.000000</td>\n",
       "      <td>6040.000000</td>\n",
       "    </tr>\n",
       "    <tr>\n",
       "      <th>mean</th>\n",
       "      <td>3020.500000</td>\n",
       "      <td>30.639238</td>\n",
       "      <td>8.146854</td>\n",
       "    </tr>\n",
       "    <tr>\n",
       "      <th>std</th>\n",
       "      <td>1743.742145</td>\n",
       "      <td>12.895962</td>\n",
       "      <td>6.329511</td>\n",
       "    </tr>\n",
       "    <tr>\n",
       "      <th>min</th>\n",
       "      <td>1.000000</td>\n",
       "      <td>1.000000</td>\n",
       "      <td>0.000000</td>\n",
       "    </tr>\n",
       "    <tr>\n",
       "      <th>25%</th>\n",
       "      <td>1510.750000</td>\n",
       "      <td>25.000000</td>\n",
       "      <td>3.000000</td>\n",
       "    </tr>\n",
       "    <tr>\n",
       "      <th>50%</th>\n",
       "      <td>3020.500000</td>\n",
       "      <td>25.000000</td>\n",
       "      <td>7.000000</td>\n",
       "    </tr>\n",
       "    <tr>\n",
       "      <th>75%</th>\n",
       "      <td>4530.250000</td>\n",
       "      <td>35.000000</td>\n",
       "      <td>14.000000</td>\n",
       "    </tr>\n",
       "    <tr>\n",
       "      <th>max</th>\n",
       "      <td>6040.000000</td>\n",
       "      <td>56.000000</td>\n",
       "      <td>20.000000</td>\n",
       "    </tr>\n",
       "  </tbody>\n",
       "</table>\n",
       "</div>"
      ],
      "text/plain": [
       "            userID          age   occupation\n",
       "count  6040.000000  6040.000000  6040.000000\n",
       "mean   3020.500000    30.639238     8.146854\n",
       "std    1743.742145    12.895962     6.329511\n",
       "min       1.000000     1.000000     0.000000\n",
       "25%    1510.750000    25.000000     3.000000\n",
       "50%    3020.500000    25.000000     7.000000\n",
       "75%    4530.250000    35.000000    14.000000\n",
       "max    6040.000000    56.000000    20.000000"
      ]
     },
     "execution_count": 18,
     "metadata": {},
     "output_type": "execute_result"
    }
   ],
   "source": [
    "print(len(df_users))\n",
    "df_users.describe()"
   ]
  },
  {
   "cell_type": "code",
   "execution_count": 19,
   "metadata": {
    "hidden": true
   },
   "outputs": [
    {
     "data": {
      "text/html": [
       "<div>\n",
       "<style>\n",
       "    .dataframe thead tr:only-child th {\n",
       "        text-align: right;\n",
       "    }\n",
       "\n",
       "    .dataframe thead th {\n",
       "        text-align: left;\n",
       "    }\n",
       "\n",
       "    .dataframe tbody tr th {\n",
       "        vertical-align: top;\n",
       "    }\n",
       "</style>\n",
       "<table border=\"1\" class=\"dataframe\">\n",
       "  <thead>\n",
       "    <tr style=\"text-align: right;\">\n",
       "      <th></th>\n",
       "      <th>userID</th>\n",
       "      <th>gender</th>\n",
       "      <th>age</th>\n",
       "      <th>occupation</th>\n",
       "      <th>zipcode</th>\n",
       "    </tr>\n",
       "  </thead>\n",
       "  <tbody>\n",
       "    <tr>\n",
       "      <th>0</th>\n",
       "      <td>1</td>\n",
       "      <td>F</td>\n",
       "      <td>1</td>\n",
       "      <td>10</td>\n",
       "      <td>48067</td>\n",
       "    </tr>\n",
       "    <tr>\n",
       "      <th>1</th>\n",
       "      <td>2</td>\n",
       "      <td>M</td>\n",
       "      <td>56</td>\n",
       "      <td>16</td>\n",
       "      <td>70072</td>\n",
       "    </tr>\n",
       "    <tr>\n",
       "      <th>2</th>\n",
       "      <td>3</td>\n",
       "      <td>M</td>\n",
       "      <td>25</td>\n",
       "      <td>15</td>\n",
       "      <td>55117</td>\n",
       "    </tr>\n",
       "    <tr>\n",
       "      <th>3</th>\n",
       "      <td>4</td>\n",
       "      <td>M</td>\n",
       "      <td>45</td>\n",
       "      <td>7</td>\n",
       "      <td>02460</td>\n",
       "    </tr>\n",
       "    <tr>\n",
       "      <th>4</th>\n",
       "      <td>5</td>\n",
       "      <td>M</td>\n",
       "      <td>25</td>\n",
       "      <td>20</td>\n",
       "      <td>55455</td>\n",
       "    </tr>\n",
       "    <tr>\n",
       "      <th>5</th>\n",
       "      <td>6</td>\n",
       "      <td>F</td>\n",
       "      <td>50</td>\n",
       "      <td>9</td>\n",
       "      <td>55117</td>\n",
       "    </tr>\n",
       "    <tr>\n",
       "      <th>6</th>\n",
       "      <td>7</td>\n",
       "      <td>M</td>\n",
       "      <td>35</td>\n",
       "      <td>1</td>\n",
       "      <td>06810</td>\n",
       "    </tr>\n",
       "    <tr>\n",
       "      <th>7</th>\n",
       "      <td>8</td>\n",
       "      <td>M</td>\n",
       "      <td>25</td>\n",
       "      <td>12</td>\n",
       "      <td>11413</td>\n",
       "    </tr>\n",
       "    <tr>\n",
       "      <th>8</th>\n",
       "      <td>9</td>\n",
       "      <td>M</td>\n",
       "      <td>25</td>\n",
       "      <td>17</td>\n",
       "      <td>61614</td>\n",
       "    </tr>\n",
       "    <tr>\n",
       "      <th>9</th>\n",
       "      <td>10</td>\n",
       "      <td>F</td>\n",
       "      <td>35</td>\n",
       "      <td>1</td>\n",
       "      <td>95370</td>\n",
       "    </tr>\n",
       "  </tbody>\n",
       "</table>\n",
       "</div>"
      ],
      "text/plain": [
       "   userID gender  age  occupation zipcode\n",
       "0       1      F    1          10   48067\n",
       "1       2      M   56          16   70072\n",
       "2       3      M   25          15   55117\n",
       "3       4      M   45           7   02460\n",
       "4       5      M   25          20   55455\n",
       "5       6      F   50           9   55117\n",
       "6       7      M   35           1   06810\n",
       "7       8      M   25          12   11413\n",
       "8       9      M   25          17   61614\n",
       "9      10      F   35           1   95370"
      ]
     },
     "execution_count": 19,
     "metadata": {},
     "output_type": "execute_result"
    }
   ],
   "source": [
    "df_users.iloc[0:10]"
   ]
  },
  {
   "cell_type": "markdown",
   "metadata": {
    "hidden": true
   },
   "source": [
    "## FIND similar users \n"
   ]
  },
  {
   "cell_type": "code",
   "execution_count": 20,
   "metadata": {
    "hidden": true
   },
   "outputs": [
    {
     "name": "stdout",
     "output_type": "stream",
     "text": [
      "      userID gender  age  occupation zipcode\n",
      "1814    1815      M    1           1   30707\n",
      "2059    2060      M    1           1   48304\n",
      "2852    2853      M    1           1  444555\n"
     ]
    }
   ],
   "source": [
    "def get_users_where(age=\"*\", gender=\"*\", occupation=\"*\", zipcode=\"*\"): \n",
    "    us = df_users\n",
    "    if age != \"*\":\n",
    "        us = us[us[\"age\"]==age]\n",
    "    if gender != \"*\":\n",
    "        us = us[us[\"gender\"]==gender]\n",
    "    if occupation != \"*\":\n",
    "        us = us[us[\"occupation\"]==occupation]\n",
    "    if zipcode != \"*\":\n",
    "        us = us[us[\"zipcode\"]==zipcode]    \n",
    "    return us # return the data \n",
    "#     return len(us) return the length of each selection\n",
    "\n",
    "# print(get_users_where(age=1) )\n",
    "# print(get_users_where(age=1, gender =\"M\") )\n",
    "print(get_users_where(age=1, gender =\"M\", occupation = 1 ) )\n",
    "# print(get_users_where(age=1, gender =\"M\", occupation = 1, zipcode = 48067 ) )\n"
   ]
  },
  {
   "cell_type": "code",
   "execution_count": null,
   "metadata": {
    "collapsed": true,
    "hidden": true
   },
   "outputs": [],
   "source": []
  },
  {
   "cell_type": "code",
   "execution_count": null,
   "metadata": {
    "collapsed": true,
    "hidden": true
   },
   "outputs": [],
   "source": []
  },
  {
   "cell_type": "markdown",
   "metadata": {},
   "source": [
    "# Compare results - Show statistics"
   ]
  },
  {
   "cell_type": "code",
   "execution_count": 22,
   "metadata": {},
   "outputs": [
    {
     "name": "stdout",
     "output_type": "stream",
     "text": [
      "\n",
      "Top Movies ------------------------------------------------------------\n",
      "1815\n",
      "[(3154, -1.2711122), (542, -1.2713907), (1784, -1.2718444), (2258, -1.2719319), (1000, -1.2721136), (3471, -1.2722907), (2529, -1.2724241), (3009, -1.2725339), (1840, -1.2727556), (1460, -1.2728013)]\n",
      "TOP Movies\n",
      " 3154 - -1.27 - Zed & Two Noughts, A (1985)\n",
      "  542 - -1.27 - Super Mario Bros. (1993)\n",
      " 1784 - -1.27 - Alan Smithee Film: Burn Hollywood Burn, An (1997)\n",
      " 2258 - -1.27 - Tales from the Darkside: The Movie (1990)\n",
      " 1000 - -1.27 - Parent Trap, The (1961)\n",
      " 3471 - -1.27 - Passion of Mind (1999)\n",
      " 2529 - -1.27 - Pushing Tin (1999)\n",
      " 3009 - -1.27 - Liberty Heights (1999)\n",
      " 1840 - -1.27 - X-Files: Fight the Future, The (1998)\n",
      " 1460 - -1.27 - B*A*P*S (1997)\n",
      "2060\n",
      "[(3070, -1.3068042), (3471, -1.3079368), (1512, -1.3079507), (3552, -1.3081417), (2711, -1.3082843), (408, -1.3083031), (734, -1.308417), (542, -1.3084476), (847, -1.3085543), (472, -1.3087789)]\n",
      "TOP Movies\n",
      " 3070 - -1.31 - Tarzan the Fearless (1933)\n",
      " 3471 - -1.31 - Passion of Mind (1999)\n",
      " 1512 - -1.31 - Buddy (1997)\n",
      " 3552 - -1.31 - Possession (1981)\n",
      " 2711 - -1.31 - Raven, The (1963)\n",
      "  408 - -1.31 - Age of Innocence, The (1993)\n",
      "  734 - -1.31 - Brothers in Trouble (1995)\n",
      "  542 - -1.31 - Super Mario Bros. (1993)\n",
      "  847 - -1.31 - Godfather, The (1972)\n",
      "  472 - -1.31 - Inkwell, The (1994)\n",
      "2853\n",
      "[(2760, -1.3031322), (2421, -1.303287), (664, -1.3033577), (1385, -1.3037655), (3722, -1.3037702), (2824, -1.3038847), (3672, -1.3039185), (2062, -1.3039674), (1328, -1.3041812), (1156, -1.3042867)]\n",
      "TOP Movies\n",
      " 2760 - -1.30 - Muse, The (1999)\n",
      " 2421 - -1.30 - Payback (1999)\n",
      "  664 - -1.30 - World of Apu, The (Apur Sansar) (1959)\n",
      " 1385 - -1.30 - Last of the Mohicans, The (1992)\n",
      " 3722 - -1.30 - Footloose (1984)\n",
      " 2824 - -1.30 - Plunkett & MaCleane (1999)\n",
      " 3672 - -1.30 - Badlands (1973)\n",
      " 2062 - -1.30 - Autumn Sonata (Höstsonaten ) (1978)\n",
      " 1328 - -1.30 - Nosferatu a Venezia (1986)\n",
      " 1156 - -1.30 - Cinema Paradiso (1988)\n"
     ]
    }
   ],
   "source": [
    "init_op = tf.global_variables_initializer()\n",
    "with tf.Session() as sess:\n",
    "    sess.run(init_op)\n",
    "    #saver.restore(sess, \"./tmp/\")\n",
    "    movies=list(range(len(df_movies)))\n",
    "\n",
    "    user_IDEN = get_users_where(age=1, gender =\"M\", occupation = 1 )\n",
    "    print (\"\\nTop Movies ------------------------------------------------------------\")\n",
    "\n",
    "    for i in range(len(user_IDEN)):\n",
    "        userID = user_IDEN.iloc[i][\"userID\"]\n",
    "        print(userID)\n",
    "        users=[userID]\n",
    "        pred_batch = sess.run(infer, feed_dict={user_batch: users,item_batch: movies})\n",
    "        moviesrecomm=list(zip(movies,pred_batch))\n",
    "        smovies=sorted (moviesrecomm,key=lambda x:x[1],reverse=True)\n",
    "        topmovies= smovies[0:10]\n",
    "        printMM(topmovies)"
   ]
  },
  {
   "cell_type": "markdown",
   "metadata": {
    "collapsed": true
   },
   "source": [
    "# movies watched by users... "
   ]
  },
  {
   "cell_type": "code",
   "execution_count": 34,
   "metadata": {},
   "outputs": [
    {
     "name": "stdout",
     "output_type": "stream",
     "text": [
      "id: 1, G: F, age Under 18, oc: 10, zc: 48067\n"
     ]
    },
    {
     "data": {
      "text/plain": [
       "1"
      ]
     },
     "execution_count": 34,
     "metadata": {},
     "output_type": "execute_result"
    }
   ],
   "source": [
    "def getAg(age):\n",
    "    if age == 1:    return \"Under 18\"\n",
    "    elif age == 18: return \"18 - 24 \"\n",
    "    elif age == 25: return \"25 - 34 \"\n",
    "    elif age == 35: return \"35 - 44 \"\n",
    "    elif age == 45: return \"45 - 49 \"\n",
    "    elif age == 50: return \"50 - 55 \"\n",
    "    elif age == 56: return \"Above 56\"\n",
    "\n",
    "def getOc(occ):\n",
    "    if occ == 0:    return \"other\"\n",
    "    elif occ == 1:  return \"academic/educator\"\n",
    "    elif occ == 2:  return \"artist\"\n",
    "    elif occ == 3:  return \"clerical/admin\"\n",
    "    elif occ == 4:  return \"college/grad student\"\n",
    "    elif occ == 5:  return \"customer service\"\n",
    "    elif occ == 6:  return \"doctor/health care\"\n",
    "    elif occ == 7:  return \"executive/managerial\"\n",
    "    elif occ == 8:  return \"farmer\"\n",
    "    elif occ == 9:  return \"homemaker\"\n",
    "    elif occ == 10: return \"K-12 student\"\n",
    "    elif occ == 11: return \"lawyer\"\n",
    "    elif occ == 12: \"programmer\"\n",
    "    elif occ == 13: \"retired\"\n",
    "    elif occ == 14: \"sales/marketing\"\n",
    "    elif occ == 15: \"scientist\"\n",
    "    elif occ == 16: \"self-employed\"\n",
    "    elif occ == 17: \"technician/engineer\"\n",
    "    elif occ == 18: \"tradesman/craftsman\"\n",
    "    elif occ == 19: \"unemployed\"\n",
    "    elif occ == 20: \"writer\"\n",
    "        \n",
    "userID = 1.\n",
    "user = df_users[df_users[\"userID\"]==userID]\n",
    "\n",
    "print(\"id: {}, G: {}, age {}, oc: {}, zc: {}\" \n",
    "      .format(user[\"userID\"][0], user[\"gender\"][0], getAg(user[\"age\"][0]), user[\"occupation\"][0], user[\"zipcode\"][0] ))\n",
    "# for i,r in topmovies:\n",
    "#     print(\"{0:5} - {1:1.2f} - {2}\" .format(i,  r, df_movies.iloc[i].title  ))\n"
   ]
  },
  {
   "cell_type": "code",
   "execution_count": null,
   "metadata": {
    "collapsed": true
   },
   "outputs": [],
   "source": []
  },
  {
   "cell_type": "code",
   "execution_count": null,
   "metadata": {
    "collapsed": true
   },
   "outputs": [],
   "source": []
  },
  {
   "cell_type": "code",
   "execution_count": null,
   "metadata": {
    "collapsed": true
   },
   "outputs": [],
   "source": []
  }
 ],
 "metadata": {
  "kernelspec": {
   "display_name": "Python 3",
   "language": "python",
   "name": "python3"
  },
  "language_info": {
   "codemirror_mode": {
    "name": "ipython",
    "version": 3
   },
   "file_extension": ".py",
   "mimetype": "text/x-python",
   "name": "python",
   "nbconvert_exporter": "python",
   "pygments_lexer": "ipython3",
   "version": "3.5.2"
  }
 },
 "nbformat": 4,
 "nbformat_minor": 2
}
